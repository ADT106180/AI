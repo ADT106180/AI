{
 "cells": [
  {
   "cell_type": "code",
   "execution_count": 4,
   "metadata": {},
   "outputs": [
    {
     "name": "stdout",
     "output_type": "stream",
     "text": [
      "Full Mode: 我/ 來/ 到/ 台中/ 教育/ 大/ 學\n",
      "Default Mode: 我來/ 到/ 台/ 中/ 教育/ 大學\n",
      "我來, 到, 台, 中, 教育, 大學\n",
      "志明, 碩士, 畢業, 於, 台, 中, 教育, 大學, ，, 後, 在, 日本, 東京大學, 深造\n"
     ]
    }
   ],
   "source": [
    "\n",
    "# Jieba1\n",
    "#encoding=utf-8\n",
    "import jieba\n",
    "\n",
    "seg_list = jieba.cut(\"我來到台中教育大學\",cut_all=True)\n",
    "print (\"Full Mode:\", \"/ \".join(seg_list)) #全模式\n",
    "\n",
    "seg_list = jieba.cut(\"我來到台中教育大學\",cut_all=False)\n",
    "print (\"Default Mode:\", \"/ \".join(seg_list)) #精確模式\n",
    "\n",
    "seg_list = jieba.cut(\"我來到台中教育大學\") #默認是精確模式\n",
    "print (\", \".join(seg_list))\n",
    "\n",
    "seg_list = jieba.cut_for_search(\"志明碩士畢業於台中教育大學，後在日本東京大學深造\") #搜索引擎模式\n",
    "print (\", \".join(seg_list))\n"
   ]
  },
  {
   "cell_type": "code",
   "execution_count": 2,
   "metadata": {},
   "outputs": [
    {
     "name": "stdout",
     "output_type": "stream",
     "text": [
      "預設模式:我來|到|台|中|教育|大學|就|讀碩士\n",
      "全文模式:我|來|到|台中|教育|大|學|就|讀|碩|士\n",
      "搜尋引擎:我來|到|台|中|教育|大學|就|讀碩士\n"
     ]
    }
   ],
   "source": [
    "\n",
    "sentence = \"我來到台中教育大學就讀碩士\"\n",
    "# 預設模式斷詞\n",
    "breakword = jieba.cut(sentence, cut_all=False)\n",
    "print(\"預設模式:\" + '|' . join(breakword))\n",
    "\n",
    "# 全文模式斷詞\n",
    "breakword = jieba.cut(sentence, cut_all=True)\n",
    "print(\"全文模式:\" + '|' . join(breakword))\n",
    "\n",
    "# 搜尋引擎模式斷詞\n",
    "breakword = jieba.cut_for_search(sentence)\n",
    "print(\"搜尋引擎:\" + '|' . join(breakword))\n"
   ]
  },
  {
   "cell_type": "code",
   "execution_count": null,
   "metadata": {},
   "outputs": [],
   "source": []
  }
 ],
 "metadata": {
  "kernelspec": {
   "display_name": "Python 3",
   "language": "python",
   "name": "python3"
  },
  "language_info": {
   "codemirror_mode": {
    "name": "ipython",
    "version": 3
   },
   "file_extension": ".py",
   "mimetype": "text/x-python",
   "name": "python",
   "nbconvert_exporter": "python",
   "pygments_lexer": "ipython3",
   "version": "3.7.0"
  }
 },
 "nbformat": 4,
 "nbformat_minor": 2
}
